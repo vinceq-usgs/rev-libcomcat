{
 "cells": [
  {
   "cell_type": "code",
   "execution_count": 1,
   "metadata": {},
   "outputs": [],
   "source": [
    "%matplotlib inline"
   ]
  },
  {
   "cell_type": "code",
   "execution_count": 2,
   "metadata": {},
   "outputs": [],
   "source": [
    "# stdlib imports\n",
    "from datetime import datetime\n",
    "from time import time\n",
    "\n",
    "# Third party imports\n",
    "import matplotlib.pyplot as plt\n",
    "from obspy.geodetics.base import gps2dist_azimuth\n",
    "import pandas as pd\n",
    "\n",
    "# Local imports\n",
    "from libcomcat.dataframes import get_history_data_frame\n",
    "from libcomcat.search import (get_event_by_id, get_authoritative_info, search)"
   ]
  },
  {
   "cell_type": "markdown",
   "metadata": {},
   "source": [
    "# Comparing network magnitudes/locations/depths\n",
    "----\n",
    "\n",
    "Using ComCat, differences between network magnitude, location, and depth can be determined. The cells below use a method, *get_authoritative_info()* that can take a fair amount of time to run, so if you are not doing your own analysis, take note of the documentation above the cell where data is downloaded and run the cell after it instead.\n",
    "\n",
    "In this example, magnitudes, locations, and depths from the Lamont-Doherty (LD) seismic network will be compared with their equivalents from the National Earthquake Information Center (NEIC/US).\n",
    "\n",
    "## Contents\n",
    "----\n",
    "- [Getting Events](#Getting-Events)\n",
    "- [Creating a Dataframe from an Excel Spreadsheet](#Creating-a-Dataframe-from-an-Excel-Spreadsheet)\n",
    "- [Getting-Magnitudes-from-a-Specific-Catalog](#Getting-Magnitudes-from-a-Specific-Catalog)"
   ]
  },
  {
   "cell_type": "code",
   "execution_count": 3,
   "metadata": {},
   "outputs": [],
   "source": [
    "# VERY approximate Lamont Doherty network bounds\n",
    "bounds = [-81.762695, -66.953125, 37.356678, 47.780544]\n",
    "\n",
    "# start/end times for analysis\n",
    "stime = datetime(2017,1,1)\n",
    "etime = datetime.utcnow()\n",
    "\n",
    "# magnitude range\n",
    "minmag = 0.0\n",
    "maxmag = 9.9"
   ]
  },
  {
   "cell_type": "markdown",
   "metadata": {},
   "source": [
    "## Getting Events\n",
    "### Only run this cell if you have time to wait for downloads!\n",
    "\n",
    "In this cell, a list of SummaryEvent objects is downloaded. For each one, the *get_authoritative_info()* function is called to retrieve the authoritative magnitudes, locations and depths from each contributing network. Then that information is assembled into a pandas DataFrame to be used for our analysis."
   ]
  },
  {
   "cell_type": "code",
   "execution_count": 4,
   "metadata": {},
   "outputs": [
    {
     "name": "stdout",
     "output_type": "stream",
     "text": [
      "409\n",
      "Elapsed time to retrieve 409 magnitudes: 270.47 seconds\n"
     ]
    }
   ],
   "source": [
    "# Retrieve list of events\n",
    "eventlist = search(starttime=stime,\n",
    "                  endtime=etime,\n",
    "                  minlatitude=bounds[2],\n",
    "                  maxlatitude=bounds[3],\n",
    "                  minlongitude=bounds[0],\n",
    "                  maxlongitude=bounds[1],\n",
    "                  minmagnitude=minmag,\n",
    "                  maxmagnitude=maxmag)\n",
    "print(len(eventlist))\n",
    "\n",
    "# Retrieve all mag/locations for those events \n",
    "# (depending on bandwidth), this can take 30 \n",
    "# seconds to a minute per event.\n",
    "t1 = time()\n",
    "magdict = {}\n",
    "columns = []\n",
    "for event in eventlist:\n",
    "    mdict, ldict, _ = get_authoritative_info(event.id)\n",
    "    mdict.update(ldict)\n",
    "    magdict[event.id] = mdict\n",
    "    columns += list(mdict.keys())\n",
    "    \n",
    "t2 = time()\n",
    "dt = t2-t1\n",
    "fmt = 'Elapsed time to retrieve %i magnitudes: %.2f seconds'\n",
    "print(fmt % (len(eventlist),dt))\n",
    "\n",
    "# Assemble these dictionaries into a DataFrame\n",
    "columns = ['eventid'] + list(set(columns))\n",
    "dataframe = pd.DataFrame(columns=columns)\n",
    "for eventid, edict in magdict.items():\n",
    "    edict['eventid'] = eventid\n",
    "    dataframe = dataframe.append(edict, ignore_index=True)"
   ]
  },
  {
   "cell_type": "markdown",
   "metadata": {},
   "source": [
    "## Creating a Dataframe from an Excel Spreadsheet\n",
    "### If presenting, run this cell instead\n",
    "\n",
    "This cell loads a previously downloaded table of information."
   ]
  },
  {
   "cell_type": "code",
   "execution_count": 5,
   "metadata": {},
   "outputs": [],
   "source": [
    "tablefile = './data/events.xlsx'\n",
    "if 'dataframe' not in vars():\n",
    "    dataframe = pd.read_excel(tablefile)\n",
    "else:\n",
    "    dataframe.to_excel(tablefile, index=False)"
   ]
  },
  {
   "cell_type": "markdown",
   "metadata": {},
   "source": [
    "The *count()* method on a DataFrame is a convenient way to see how many non-null values are in each column of the DataFrame."
   ]
  },
  {
   "cell_type": "code",
   "execution_count": 6,
   "metadata": {},
   "outputs": [
    {
     "data": {
      "text/plain": [
       "eventid         409\n",
       "se-latitude      20\n",
       "us-mwr            3\n",
       "us-depth        348\n",
       "us-NA             0\n",
       "se-longitude     20\n",
       "us-ml           220\n",
       "us-latitude     348\n",
       "us-mb             1\n",
       "ld-depth        163\n",
       "se-mlg            1\n",
       "ld-longitude    163\n",
       "se-depth         20\n",
       "us-mb_lg         37\n",
       "ld-latitude     163\n",
       "us-longitude    348\n",
       "se-md            19\n",
       "ld-ml           163\n",
       "dtype: int64"
      ]
     },
     "execution_count": 6,
     "metadata": {},
     "output_type": "execute_result"
    }
   ],
   "source": [
    "dataframe.count()"
   ]
  },
  {
   "cell_type": "markdown",
   "metadata": {},
   "source": [
    "# Getting Magnitudes from a Specific Catalog\n",
    "In the cell below, the ML magnitudes from LD and US are gathered and plotted against each other. The resulting figure shows that US ML magnitudes are consistently higher than the LD equivalents."
   ]
  },
  {
   "cell_type": "code",
   "execution_count": 7,
   "metadata": {},
   "outputs": [
    {
     "data": {
      "image/png": "[encoded data removed]",
      "text/plain": [
       "<Figure size 576x576 with 1 Axes>"
      ]
     },
     "metadata": {
      "needs_background": "light"
     },
     "output_type": "display_data"
    }
   ],
   "source": [
    "reg_type = 'ld-ml'\n",
    "us_type = 'us-ml'\n",
    "c1 = dataframe[reg_type].notnull()\n",
    "c2 = dataframe[us_type].notnull()\n",
    "N = len(dataframe[c1&c2])\n",
    "magdf = dataframe[c1&c2]\n",
    "reg_mag = magdf[reg_type]\n",
    "us_mag = magdf[us_type]\n",
    "minmag = min(reg_mag.min(),us_mag.min())\n",
    "maxmag = max(reg_mag.max(),us_mag.max())\n",
    "fig = plt.figure(figsize=(8,8))\n",
    "plt.plot(reg_mag, us_mag,'b.');\n",
    "plt.plot([minmag,maxmag],[minmag,maxmag],'r');\n",
    "# plt.axes([minmag,maxmag,minmag,maxmag]);\n",
    "plt.axis('square');\n",
    "plt.xlabel(reg_type, fontsize=14);\n",
    "plt.ylabel(us_type, fontsize=14);\n",
    "plt.text(minmag, maxmag, 'N=%i' % N, fontsize=14);\n",
    "sdate = stime.strftime('%b %d, %Y')\n",
    "edate = etime.strftime('%b %d, %Y')\n",
    "fmt = '%s vs. %s (%s to %s)'\n",
    "plt.title(fmt % (reg_type, us_type, sdate, edate), fontsize=16);"
   ]
  },
  {
   "cell_type": "markdown",
   "metadata": {},
   "source": [
    "In the cell below, the US and LD latitude/longitude values are assembled, and the distances between them are calculated."
   ]
  },
  {
   "cell_type": "code",
   "execution_count": 8,
   "metadata": {},
   "outputs": [],
   "source": [
    "regname = 'ld'\n",
    "lat1col = '%s-latitude' % regname\n",
    "lon1col = '%s-longitude' % regname\n",
    "lat2col = 'us-latitude'\n",
    "lon2col = 'us-longitude'\n",
    "c1 = dataframe[lat1col].notnull()\n",
    "c2 = dataframe[lon1col].notnull()\n",
    "c3 = dataframe[lat2col].notnull()\n",
    "c4 = dataframe[lon2col].notnull()\n",
    "locdf = dataframe[c1 & c2 & c3 & c4].copy()\n",
    "distances = []\n",
    "for idx, row in locdf.iterrows():\n",
    "    lat1 = row[lat1col]\n",
    "    lon1 = row[lon1col]\n",
    "    lat2 = row[lat2col]\n",
    "    lon2 = row[lon2col]\n",
    "    dist, az1, az2 = gps2dist_azimuth(lat1, lon1, lat2, lon2)\n",
    "    distances.append(dist/1000.0)"
   ]
  },
  {
   "cell_type": "code",
   "execution_count": 9,
   "metadata": {},
   "outputs": [
    {
     "data": {
      "image/png": "[encoded data removed]",
      "text/plain": [
       "<Figure size 576x432 with 1 Axes>"
      ]
     },
     "metadata": {
      "needs_background": "light"
     },
     "output_type": "display_data"
    }
   ],
   "source": [
    "fig = plt.figure(figsize=(8,6));\n",
    "plt.hist(distances, bins=10);\n",
    "plt.xlabel('LD-US Location Distance', fontsize=14);\n",
    "xmin,xmax,ymin,ymax = plt.axis();\n",
    "xpos = xmax - (xmax-xmin)/10\n",
    "ypos = ymax - (ymax-ymin)/10\n",
    "plt.text(xpos,ypos,'N=%i' % len(distances), fontsize=14);\n",
    "plt.title('LD vs US Locations', fontsize=16);"
   ]
  },
  {
   "cell_type": "markdown",
   "metadata": {},
   "source": [
    "In this cell the LD magnitudes are plotted against the *difference* between US and LD calculated depths."
   ]
  },
  {
   "cell_type": "code",
   "execution_count": 10,
   "metadata": {},
   "outputs": [
    {
     "data": {
      "image/png": "[encoded data removed]",
      "text/plain": [
       "<Figure size 576x432 with 1 Axes>"
      ]
     },
     "metadata": {
      "needs_background": "light"
     },
     "output_type": "display_data"
    }
   ],
   "source": [
    "plt.figure(figsize=(8,6));\n",
    "regcol = 'ld-depth'\n",
    "uscol = 'us-depth'\n",
    "ddepth = locdf[uscol] - locdf[regcol]\n",
    "plt.plot(locdf['ld-ml'],ddepth,'b.');\n",
    "plt.xlabel('ld-ml', fontsize=14);\n",
    "plt.ylabel('US depth - LD depth', fontsize=14);\n",
    "plt.title('Depth Difference vs LD-ML', fontsize=16);"
   ]
  }
 ],
 "metadata": {
  "kernelspec": {
   "display_name": "Python 3",
   "language": "python",
   "name": "python3"
  },
  "language_info": {
   "codemirror_mode": {
    "name": "ipython",
    "version": 3
   },
   "file_extension": ".py",
   "mimetype": "text/x-python",
   "name": "python",
   "nbconvert_exporter": "python",
   "pygments_lexer": "ipython3",
   "version": "3.7.3"
  }
 },
 "nbformat": 4,
 "nbformat_minor": 2
}
